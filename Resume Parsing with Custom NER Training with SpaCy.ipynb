{
  "cells": [
    {
      "cell_type": "markdown",
      "metadata": {},
      "source": [
        "Building a Resume Parser Using NLP(Spacy) and Machine Learning\n",
        "\n",
        "Introduction:\n",
        "\n",
        "A resume parser is a software tool that extracts relevant information from a resume and saves it in a structured format. It is a crucial tool for recruiters and hiring managers to efficiently screen job applications. In this project, we will use Natural Language Processing (NLP) and Machine Learning techniques to build a resume parser."
      ]
    },
    {
      "cell_type": "code",
      "execution_count": 2,
      "metadata": {
        "trusted": true
      },
      "outputs": [],
      "source": [
        "import spacy\n",
        "import pickle\n",
        "import random\n",
        "\n",
        "import pandas as pd"
      ]
    },
    {
      "cell_type": "code",
      "execution_count": 3,
      "metadata": {
        "trusted": true
      },
      "outputs": [],
      "source": [
        "train_data = pickle.load(open('train_data.pkl', 'rb'))"
      ]
    },
    {
      "cell_type": "code",
      "execution_count": 4,
      "metadata": {
        "trusted": true
      },
      "outputs": [
        {
          "data": {
            "text/plain": [
              "('Govardhana K Senior Software Engineer  Bengaluru, Karnataka, Karnataka - Email me on Indeed: indeed.com/r/Govardhana-K/ b2de315d95905b68  Total IT experience 5 Years 6 Months Cloud Lending Solutions INC 4 Month • Salesforce Developer Oracle 5 Years 2 Month • Core Java Developer Languages Core Java, Go Lang Oracle PL-SQL programming, Sales Force Developer with APEX.  Designations & Promotions  Willing to relocate: Anywhere  WORK EXPERIENCE  Senior Software Engineer  Cloud Lending Solutions -  Bangalore, Karnataka -  January 2018 to Present  Present  Senior Consultant  Oracle -  Bangalore, Karnataka -  November 2016 to December 2017  Staff Consultant  Oracle -  Bangalore, Karnataka -  January 2014 to October 2016  Associate Consultant  Oracle -  Bangalore, Karnataka -  November 2012 to December 2013  EDUCATION  B.E in Computer Science Engineering  Adithya Institute of Technology -  Tamil Nadu  September 2008 to June 2012  https://www.indeed.com/r/Govardhana-K/b2de315d95905b68?isid=rex-download&ikw=download-top&co=IN https://www.indeed.com/r/Govardhana-K/b2de315d95905b68?isid=rex-download&ikw=download-top&co=IN   SKILLS  APEX. (Less than 1 year), Data Structures (3 years), FLEXCUBE (5 years), Oracle (5 years), Algorithms (3 years)  LINKS  https://www.linkedin.com/in/govardhana-k-61024944/  ADDITIONAL INFORMATION  Technical Proficiency:  Languages: Core Java, Go Lang, Data Structures & Algorithms, Oracle PL-SQL programming, Sales Force with APEX. Tools: RADTool, Jdeveloper, NetBeans, Eclipse, SQL developer, PL/SQL Developer, WinSCP, Putty Web Technologies: JavaScript, XML, HTML, Webservice  Operating Systems: Linux, Windows Version control system SVN & Git-Hub Databases: Oracle Middleware: Web logic, OC4J Product FLEXCUBE: Oracle FLEXCUBE Versions 10.x, 11.x and 12.x  https://www.linkedin.com/in/govardhana-k-61024944/',\n",
              " {'entities': [(1749, 1755, 'Companies worked at'),\n",
              "   (1696, 1702, 'Companies worked at'),\n",
              "   (1417, 1423, 'Companies worked at'),\n",
              "   (1356, 1793, 'Skills'),\n",
              "   (1209, 1215, 'Companies worked at'),\n",
              "   (1136, 1248, 'Skills'),\n",
              "   (928, 932, 'Graduation Year'),\n",
              "   (858, 889, 'College Name'),\n",
              "   (821, 856, 'Degree'),\n",
              "   (787, 791, 'Graduation Year'),\n",
              "   (744, 750, 'Companies worked at'),\n",
              "   (722, 742, 'Designation'),\n",
              "   (658, 664, 'Companies worked at'),\n",
              "   (640, 656, 'Designation'),\n",
              "   (574, 580, 'Companies worked at'),\n",
              "   (555, 573, 'Designation'),\n",
              "   (470, 493, 'Companies worked at'),\n",
              "   (444, 469, 'Designation'),\n",
              "   (308, 314, 'Companies worked at'),\n",
              "   (234, 240, 'Companies worked at'),\n",
              "   (175, 198, 'Companies worked at'),\n",
              "   (93, 137, 'Email Address'),\n",
              "   (39, 48, 'Location'),\n",
              "   (13, 38, 'Designation'),\n",
              "   (0, 12, 'Name')]})"
            ]
          },
          "execution_count": 4,
          "metadata": {},
          "output_type": "execute_result"
        }
      ],
      "source": [
        "train_data[0]"
      ]
    },
    {
      "cell_type": "code",
      "execution_count": 11,
      "metadata": {
        "trusted": true
      },
      "outputs": [],
      "source": [
        "nlp = spacy.blank('en')\n",
        "\n",
        "def train_model(train_data):\n",
        "    # add NER model\n",
        "    if 'ner' not in nlp.pipe_names:\n",
        "        ner = nlp.create_pipe('ner')\n",
        "        \n",
        "        nlp.add_pipe(ner, last = True)\n",
        "    \n",
        "    # add labels\n",
        "    for _, annotation in train_data:\n",
        "        for ent in annotation['entities']:\n",
        "            ner.add_label(ent[2])\n",
        "            \n",
        "    \n",
        "    # other pipes to be disabled during training\n",
        "    other_pipes = [pipe for pipe in nlp.pipe_names if pipe != 'ner']\n",
        "    \n",
        "    with nlp.disable_pipes(*other_pipes): # only train ner\n",
        "        optimizer = nlp.begin_training()\n",
        "        \n",
        "        for itn in range(10):\n",
        "            print(f'Starting iteration {str(itn)}')\n",
        "            random.shuffle(train_data)\n",
        "            \n",
        "            losses = {}\n",
        "            index = 0\n",
        "            \n",
        "            for text, annotations in train_data:\n",
        "                try:\n",
        "                    nlp.update(\n",
        "                        [text],\n",
        "                        [annotations],\n",
        "                        drop = 0.2,\n",
        "                        sgd = optimizer,\n",
        "                        losses = losses\n",
        "                    )\n",
        "                except Exception as ex:\n",
        "                    pass\n",
        "            \n",
        "            print(losses)"
      ]
    },
    {
      "cell_type": "code",
      "execution_count": 12,
      "metadata": {
        "trusted": true
      },
      "outputs": [
        {
          "name": "stdout",
          "output_type": "stream",
          "text": [
            "Starting iteration 0\n",
            "{'ner': 10820.45452731679}\n",
            "Starting iteration 1\n",
            "{'ner': 9360.449801606816}\n",
            "Starting iteration 2\n",
            "{'ner': 9704.85435980835}\n",
            "Starting iteration 3\n",
            "{'ner': 7341.786377321575}\n",
            "Starting iteration 4\n",
            "{'ner': 6760.0401792262355}\n",
            "Starting iteration 5\n",
            "{'ner': 5925.163263495535}\n",
            "Starting iteration 6\n",
            "{'ner': 5480.883594583241}\n",
            "Starting iteration 7\n",
            "{'ner': 5564.472496991685}\n",
            "Starting iteration 8\n",
            "{'ner': 4694.496345417583}\n",
            "Starting iteration 9\n",
            "{'ner': 4777.074484604174}\n"
          ]
        }
      ],
      "source": [
        "train_model(train_data)"
      ]
    },
    {
      "cell_type": "code",
      "execution_count": 13,
      "metadata": {
        "trusted": true
      },
      "outputs": [],
      "source": [
        "# save model for future use\n",
        "nlp.to_disk('nlp_resume_model')"
      ]
    },
    {
      "cell_type": "code",
      "execution_count": 14,
      "metadata": {
        "trusted": true
      },
      "outputs": [],
      "source": [
        "# load model from trained model\n",
        "nlp_resume_model = spacy.load('nlp_resume_model')"
      ]
    },
    {
      "cell_type": "code",
      "execution_count": 15,
      "metadata": {
        "trusted": true
      },
      "outputs": [
        {
          "data": {
            "text/plain": [
              "('Mohamed Ameen System engineer  Bengaluru, Karnataka - Email me on Indeed: indeed.com/r/Mohamed-Ameen/ ba052bfa70e4c0b7  I am looking for a job opportunity as a System Engineer that gives me professional growth and excellence and enables me to contribute my efforts in the success of the organization.  WORK EXPERIENCE  IT Operations Analyst  Accenture  I am looking for a job as system engineer that gives me professional growth and excellence and enables me to contribute my efforts in the success of the organization.  technical support engineer  Convergys for Microsoft -  November 2014 to November 2015  Currently working with Accenture as a Subject Matter Expert for the Remote Technology Support team in IT Operations.  EDUCATION  B.E in Electronics & Communication  Visveswaraiah Technological University -  Bengaluru, Karnataka  2013  Electronics Project  Al-Ameen PU College  Rajiv Gandhi Institute of Technology  SKILLS  Active Directory (2 years), Microsoft office, Windows,End user computing (3 years)  CERTIFICATIONS/LICENSES  CCNA  CCNA certified  https://www.indeed.com/r/Mohamed-Ameen/ba052bfa70e4c0b7?isid=rex-download&ikw=download-top&co=IN https://www.indeed.com/r/Mohamed-Ameen/ba052bfa70e4c0b7?isid=rex-download&ikw=download-top&co=IN   ADDITIONAL INFORMATION  Skill set:  Networking:  ➢ Knowledge of OSI and TCP/IP architecture. ➢ Knowledge of Routing Protocols.  ➢ Knowledge of Virtual Private Network and IPv6.  ➢ Wireless LAN  ➢ Installing, configuration & Troubleshooting of Operating System such as Windows client (XP, Vista, 7, 8x and 10)  ➢ Installing, configuration & Troubleshooting Microsoft Office {2013, 2016, 365 pro plus (Outlook and Other Office Tools Such as Excel, word, Power Point) }  ➢ Configuring and Troubleshooting Microsoft outlook in Blackberry, iPhone & iPad.  ➢ Configuring Group Policies in Domain & Work Group Environment.  ➢ Create, modify and Manage User Account in AD Server.  ➢ Creating Folder groups in File Server and providing Network folder access.  ➢ Configuring & Troubleshooting Wireless Network & LAN, WAN Network,  ➢ Installing and Configuration of VPN clients.  ➢ Workgroup and Domain level security policies.  ➢ Migration and Up gradation of Server/Desktops.  ➢ Installation and Troubleshooting of Symantec Endpoint Antivirus.  ➢ Installation and Troubleshooting of Avecto Defend point client.  ➢ Managing & Troubleshooting Printer, Scanner, Fax.  ➢ Configuring Managing and Troubleshooting SCCM on End user machines.  ➢ Perform 1st Level troubleshooting and/or escalate as appropriate issue to warranty Vendors.  ➢ Maintain Inventory of all warranty / AMC assets for the current year.  ➢ Maintain an Inventory of parts for emergency repairs.  ➢ Coordinate with vendors and with company personnel to facilitate purchases.    ➢ Working on Web Tickets Tools.  ➢ Handling Escalation and Severity for Incidents.  Operating System:  ➢ Windows 7, Windows 8, Windows 8.1 and Windows 10.  Application:  ➢ MS Office, Service Now, ITSM, LogMeIn Rescue',\n",
              " {'entities': [(1632, 1636, 'Graduation Year'),\n",
              "   (931, 1013, 'Skills'),\n",
              "   (885, 921, 'College Name'),\n",
              "   (864, 883, 'College Name'),\n",
              "   (837, 841, 'Graduation Year'),\n",
              "   (815, 824, 'Location'),\n",
              "   (773, 811, 'College Name'),\n",
              "   (737, 772, 'Degree'),\n",
              "   (631, 640, 'Companies worked at'),\n",
              "   (342, 351, 'Companies worked at'),\n",
              "   (319, 340, 'Designation'),\n",
              "   (74, 119, 'Location'),\n",
              "   (31, 40, 'Location'),\n",
              "   (14, 29, 'Designation'),\n",
              "   (0, 13, 'Name')]})"
            ]
          },
          "execution_count": 15,
          "metadata": {},
          "output_type": "execute_result"
        }
      ],
      "source": [
        "train_data[0]"
      ]
    },
    {
      "cell_type": "code",
      "execution_count": 16,
      "metadata": {
        "trusted": true
      },
      "outputs": [
        {
          "name": "stdout",
          "output_type": "stream",
          "text": [
            "NAME                           - Mohamed Ameen\n",
            "DESIGNATION                    - System engineer\n",
            "LOCATION                       - Bengaluru\n",
            "EMAIL ADDRESS                  - indeed.com/r/Mohamed-Ameen/ ba052bfa70e4c0b7\n",
            "DESIGNATION                    - IT Operations Analyst\n",
            "COMPANIES WORKED AT            - Accenture\n",
            "COMPANIES WORKED AT            - Accenture\n",
            "DEGREE                         - B.E in Electronics & Communication\n",
            "COLLEGE NAME                   - Visveswaraiah Technological University\n",
            "LOCATION                       - Bengaluru\n",
            "COLLEGE NAME                   - Rajiv Gandhi Institute of Technology\n",
            "SKILLS                         - Active Directory (2 years), Microsoft office, Windows,End user computing (3 years)\n"
          ]
        }
      ],
      "source": [
        "doc = nlp_resume_model(train_data[0][0])\n",
        "\n",
        "for ent in doc.ents:\n",
        "    print(f'{ent.label_.upper():{30}} - {ent.text}')"
      ]
    },
    {
      "cell_type": "code",
      "execution_count": 17,
      "metadata": {
        "trusted": true
      },
      "outputs": [
        {
          "name": "stdout",
          "output_type": "stream",
          "text": [
            "Collecting PyMuPDF\n",
            "  Downloading PyMuPDF-1.17.4-cp37-cp37m-win_amd64.whl (5.1 MB)\n",
            "Installing collected packages: PyMuPDF\n",
            "Successfully installed PyMuPDF-1.17.4\n"
          ]
        }
      ],
      "source": [
        "!pip install PyMuPDF"
      ]
    },
    {
      "cell_type": "code",
      "execution_count": 20,
      "metadata": {
        "trusted": true
      },
      "outputs": [
        {
          "name": "stdout",
          "output_type": "stream",
          "text": [
            "Alice Clark  AI / Machine Learning    Delhi, India Email me on Indeed  •  20+ years of experience in data handling, design, and development  •  Data Warehouse: Data analysis, star/snow flake scema data modelling and design specific to  data warehousing and business intelligence  •  Database: Experience in database designing, scalability, back-up and recovery, writing and  optimizing SQL code and Stored Procedures, creating functions, views, triggers and indexes.  Cloud platform: Worked on Microsoft Azure cloud services like Document DB, SQL Azure,  Stream Analytics, Event hub, Power BI, Web Job, Web App, Power BI, Azure data lake  analytics(U-SQL)  Willing to relocate anywhere    WORK EXPERIENCE  Software Engineer  Microsoft – Bangalore, Karnataka  January 2000 to Present  1. Microsoft Rewards Live dashboards:  Description: - Microsoft rewards is loyalty program that rewards Users for browsing and shopping  online. Microsoft Rewards members can earn points when searching with Bing, browsing with  Microsoft Edge and making purchases at the Xbox Store, the Windows Store and the Microsoft  Store. Plus, user can pick up bonus points for taking daily quizzes and tours on the Microsoft  rewards website. Rewards live dashboards gives a live picture of usage world-wide and by  markets like US, Canada, Australia, new user registration count, top/bottom performing rewards  offers, orders stats and weekly trends of user activities, orders and new user registrations. the  PBI tiles gets refreshed in different frequencies starting from 5 seconds to 30 minutes.  Technology/Tools used    EDUCATION  Indian Institute of Technology – Mumbai  2001    SKILLS  Machine Learning, Natural Language Processing, and Big Data Handling    ADDITIONAL INFORMATION  Professional Skills  • Excellent analytical, problem solving, communication, knowledge transfer and interpersonal  skills with ability to interact with individuals at all the levels  • Quick learner and maintains cordial relationship with project manager and team members and  good performer both in team and independent job environments  • Positive attitude towards superiors &amp; peers  • Supervised junior developers throughout project lifecycle and provided technical assistance  \n"
          ]
        }
      ],
      "source": [
        "import sys, fitz\n",
        "\n",
        "fname = 'Alice Clark CV.pdf'\n",
        "\n",
        "doc = fitz.open(fname)\n",
        "text = ''\n",
        "\n",
        "for page in doc:\n",
        "    text = text + str(page.getText())\n",
        "    \n",
        "    text = ' '.join(text.split('\\n'))\n",
        "    \n",
        "print(text)"
      ]
    },
    {
      "cell_type": "code",
      "execution_count": 21,
      "metadata": {
        "trusted": true
      },
      "outputs": [
        {
          "name": "stdout",
          "output_type": "stream",
          "text": [
            "NAME                           - Alice Clark\n",
            "LOCATION                       - Delhi\n",
            "DESIGNATION                    - Software Engineer\n",
            "COMPANIES WORKED AT            - Microsoft – Bangalore, Karnataka\n",
            "COMPANIES WORKED AT            - Microsoft\n",
            "COMPANIES WORKED AT            - Microsoft\n",
            "COMPANIES WORKED AT            - Microsoft\n",
            "COMPANIES WORKED AT            - Microsoft\n",
            "COLLEGE NAME                   - Indian Institute of Technology – Mumbai\n",
            "SKILLS                         - Machine Learning, Natural Language Processing, and Big Data Handling    ADDITIONAL INFORMATION  Professional Skills  • Excellent analytical, problem solving, communication, knowledge transfer and interpersonal  skills with ability to interact with individuals at all the levels  • Quick learner and maintains cordial relationship with project manager and team members and  good performer both in team and independent job environments  • Positive attitude towards superiors &amp; peers  • Supervised junior developers throughout project lifecycle and provided technical assistance\n"
          ]
        }
      ],
      "source": [
        "doc = nlp_resume_model(text)\n",
        "\n",
        "for ent in doc.ents:\n",
        "    print(f'{ent.label_.upper():{30}} - {ent.text}')"
      ]
    },
    {
      "cell_type": "code",
      "execution_count": 22,
      "metadata": {
        "trusted": true
      },
      "outputs": [
        {
          "name": "stdout",
          "output_type": "stream",
          "text": [
            "Bishorup Banjara    banjara.bishorup@gmail.com      715-791-0828  Summary    • Around 6+ years of IT experience in software design, analysis, development, testing and  implementation of secure n-tier client/server web-based applications using .NET  Framework in various sectors.  • Design patterns: Singleton Design Pattern, Factory Pattern, Repository Pattern  • Extensive experience with Microsoft .Net Technologies (.NET Framework, MS VS.NET,  ADO.NET, Entity Framework, ASP.NET, MVC, API, VB.NET, C#.NET, SQL SERVER, WCF,  WWF and WPF) and experience working with INFRAGISTICS and third party tools.   • Proficient in development of Web & Windows based Applications; have good experience  working with multithreaded applications and also proficient with migrating from ASP.NET  3.0 to 4.0 and 4.0-5.0 frameworks and upgrading from VS 2012, 2013, 2015.   • Excellent experience in developing Web applications using WCF, AJAX, Telerik User  Control, JavaScript, XML, HTML, CSS, IIS and Web Services, Caching, User/Custom  controls, JQuery, Angular 2-6, NodeJs.  • Thorough understanding & experience in designing database Tables, Stored Procedures,  Functions and Triggers in multiple databases - SQL Server and MS Access.  • Excellent knowledge of all the phases of SDLC (Strategic Systems Planning, Designing,  Programming, Testing, Documentation and Presentation) management and  implementation.  • Extensive experience in converting the Legacy Applications into .Net.  • Extensively used Visual Source Safe & TFS for version control management.  • Designed and developed Reports using SQL Reporting Services and integration of the  same with ASP for web based reports and Crystal Reports.   • Strong Object Oriented Programming skills.  • Excellent communication and interpersonal skills with strong technical background.      Technical Skills:    Programming  Languages  C#, Python, NodeJs, VB.NET, Angular, React, Javascript,  HTML, CSS, jQuery  Cloud Computing  Azure (Virtual Machine, Storage (blob), App Service,  Database, DNS)  AI/ML and Data  Science  Supervised Learning, Unsupervised Learning  AI/ML Algorithms  Linear Regression, KNN, K-Nearest Neighbors, Decision Tree,  Random Forest, Support Vector Machine (SVM), Single  Vector Decomposition (SVD), XGBoost, Adaboost  Bishorup Banjara    banjara.bishorup@gmail.com      715-791-0828  AI/ML Libraries  Scikit-learn, Tensor Flow, pandas, numpy, seaborn,  matplotlib, GridsearchCV, AutoML, beautiful soup  Natural Language  Processing  Spacy, NLTK  Tools for AI/ML  Jupyter notebook, jupyter lab, spyder, visual studio code  Web Technologies  ASP.NET, MVC, ASP, HTML, DHTML, AJAX, Web-Services,  WCF, Restful API, Sharepoint 2013, .Net Core  Scripting Language  XML, CSS, Java Script, VBScript, JQuery, jQuery, Ajax,  AngularJS, Angular2-6+, Bootstrap, Knockout JS, NodeJs,  REACT, Material-UI  .net Technologies  .Net Framework 3.0/3.5/4.0, WPF, WWF, WCF,LINQ  Databases  SQLServer-2008/2012/2014/2016, MS-Access,  NoSQL(MongoDb, Firebase)  Reporting Tools  SSRS, Microsoft-Office, SSAS, SSIS  Development Tools  Visual Studio, Visual Studio Code  Versioning Tool  Team Foundation Server, GitHub, BitBucket  Protocols  TCP/IP, FTP, HTTP, SDLC, SOAP, REST  Web Server  IIS7.0/8.0,   Operating Systems  Windows NT/XP/2003/Vista/7/8/10      Education & Certifications    University of Texas at Arlington, Arlington, TX. Graduated with Cum Laude.    Bachelor of Science, Major: Physics, Minor: Mathematics       Scholarship & Awards    • President’s Honor Roll (Spring 2011 and Spring 2012)  • Dean’s List (Academic Year 2012/2013)  • Outstanding Transfer Scholarship  • Phi Theta Kappa Scholarship  • UTA Research Scholarship    Bishorup Banjara    banjara.bishorup@gmail.com      715-791-0828  Research Experience  Research Assistant,              October 2012 – May 2014  Bio-physics and Physiology Lab UTA  • Worked with Cellular and Blood sample  • Completed Project on Quantitative Phase Microscopy  • Worked with Graduate, Doctorate and Post-doctorate      Publications    Banjara, B., Cardenas, N., Mohanty, S.K., “Quantitative Phase Microscopy of Cellular  Fluctuations  Modulated by Optogenetic Stimulation”, Proc. of SPIE Vol. 8586, 85860Y (2013).    Professional Presentations    • National SPIE Photonics West – Biomedical Optics 2013 of, “Quantitative Phase  Microscopy of  • Cellular Fluctuations Modulated by Optogenetic Stimulation”.  • Texas Regional APS, Stephenville, TX 2013 of, “Quantitative Phase Microscopy of Cellular  • Fluctuations Modulated by Optogenetic Stimulation”.      Competition and Awards    • Second Position – Seeking Sages AI/ML Hackathon -- 09/2019  o Built the product recommendation engine        Professional Experience      1. verizon  Irving, TX  May 2019 – Current    Project: Verizon wireless and 2.0  Role: Senior .Net Developer and Automation Engineer    Description:   Bishorup Banjara    banjara.bishorup@gmail.com      715-791-0828  Verizon Wireless, (commonly shortened to Verizon) is an American telecommunications  company which offers wireless products and services. It is a wholly owned subsidiary of Verizon  Communications. Verizon Wireless provides service to 118.7 million subscribers. Verizon  Wireless is the second largest wireless telecommunications provider in the United States.    Responsibilities:  • Involved with data security and data governance team to ensure compliance with data  usage  • Created application to automate the data access pipeline using .Net Core 2.2  • Created window services to automate the data sync profess that runs eveyday  • Created portal to generate the report and rectify data security audit  • Developed SQL queries, stored procedure, and triggers to handle the business rules and  data integrity and database integration in MS SQL and Teradata  • Worked with application deployment in IIS server  • Actively involved in migrating old windows server to new server  • Create Window Service for scheduling task and improve application performace  • Fine-tuned application performance using Caching and other techniques available in  Microsoft.NET framework.  • Participated in System Documentation and Code Documentation.    Environment:   ASP.NET Core 2.0 MVC, .NET Framework 4.0,4.5, C#.NET, ASP.NET, ADO.NET, AJAX, SQL Server  2008/2012/2016,T- SQL, Teradata, Application Program Interface (API), IIS 6.0, 7.0, VS2019,  Microsoft enterprise library, LINQ, AngularJs, Bootstrap, Java Script.    2. KPMG  Montvale, NJ  Jan 2016 – May 2019    Project: TTP, GMS, Charting Project, Partner Center  Role: Senior .Net Developer (Consultant)    Description:   KPMG operates as a global network of independent member firms offering audit, tax and  advisory services; working closely with clients, helping them to mitigate risks and grasp  opportunities. Member firms' clients include business corporations, governments and public  sector agencies and not-for-profit organizations. They look to KPMG for a consistent standard  of service based on high order professional capabilities, industry insight and local knowledge.    Responsibilities:  Bishorup Banjara    banjara.bishorup@gmail.com      715-791-0828  • Designed and implement Repository pattern using Unity of Work and Factory pattern for  code optimization  • Develop Single Page Application using .Net Core and Angular2+ for Access Request  Management  • Develop desktop, iPad and iPhone/mobile responsive version of the web application  using MVC  • Develop Sharepoint 2013 web app and pages  • Implement Jenkins for CI/CD  • Implement dependency injection using Ninject and Autofac libraries  • Worked on ASP.NET MVC4/5 architecture for product development and enhancement  • Implemented Object relational mapping using Entity Framework   • Created Restful API using ASP.NET API 1&2 and WCF services  • Implement API security using token based authentication and basic authentication using  ASP.Net Identity  • Developed Web Application Security Model using Windows authentication model as well  as Forms authentication, configured Web.config files accordingly  • Worked on front end development using modern libraries Bootstrap & Awesome Fonts  • Used Angularjs with TypeScript and Jquery library for AJAX call and client side  development of the functionality  • Worked with LINQ to query the database  • Developed SQL queries, stored procedure, and triggers to handle the business rules and  data integrity and database integration   • Worked with application deployment in IIS server  • Create Window Service for scheduling task and improve application performace  • Fine-tuned application performance using Caching and other techniques available in  Microsoft.NET framework.  • Implemented source control using TFS by creating.the projects in the TFS environment.  • Participated in System Documentation and Code Documentation.    Environment: ASP.NET MVC, .NET Framework 4.0, 4.5,C#.NET, ASP.NET , ADO.NET , AJAX, SQL  Server 2008/2012,T- SQL, Application Program Interface (API), Windows Communication  Foundation(WCF), ASP, TFS, IIS6.0, 7.0, VS2013, VS2015, MSVisio, Microsoft enterprise library,  LINQ, AngularJs, Bootstrap, Java Script.      Project: North America Ecommerce Development and Enhancement   Role: NA Ecommerce Developer (Consultant)    Description:   3. Dollar Financial Group  Berwyn, PA  March 2015 – Dec 2015  Bishorup Banjara    banjara.bishorup@gmail.com      715-791-0828  DFC Global Corp is one of the largest providers of accessible consumer financial services in the  world. By providing a wide variety of innovative and accessible financial solutions for over 30  years via a technology-enabled web based underwriting and almost 1,300 retail locations  throughout the world, we at DFC Global are continuously fulfilling our commitment to meet the  needs of everyday consumers and business owners in the most socially responsible way.  Responsibilities:  • Implemented MVC architecture using C# .NET, ASP.NET for product enhancement.  • Worked to move the legacy application to the upgraded enhanced system using latest  available technologies from Microsoft .NET ASP.NET, MVC, WCF, ASP.Net API, LINQ,  ADO.Net  • Worked under ESB (Enterprise Service Bus) artichture to develop WCF and ASP.Net API  Restful Services.  • Hands on experience with Microsoft Dynamic CRM  • Create Contnet Management System (CMS) for the bettter usability by CSR for customer’s  enhanced support using ASP.Net API, MVC and ASP.Net C#.  • Created dashboard for daily process tracking and report creation to have better visibility  by the management and marketing team.  • Create Single Page Application (SPA) using Bootstrap and AngularJS for systematic  alignment of the production task and tracking the task based on priorities.  • Implemented Microsoft enterprise library and Error handling mechanism.  • Developed Web Application Security Model using Windows authentication model as well  as Forms authentication, configured Web.config files accordingly   • Involved in maintenance and enhancements of an application using Microsoft .NET  Framework 3.5 and 4.0, C#.NET, ASP.NET, LINQ, WCF, AJAX, JavaScript, jQuery, XML  WEBSERVICES.  • Designed data Model,business access layer and reporting module using C#.  • Involved in gathering functional requirements, writing design specifications, prototype  and architecting the new application using SOA and Agile.  • Performed multithreading programming to improve the application performance.  • Fine-tuned application performance using Caching and other techniques available in  Microsoft.NET framework.  • Established LINQ to SQL (Object Relational) mapping to query the database.  • Designed and developed Web Services and configured WCF Services with appropriate  endpoints.  • Created Packages, Tables, Stored Procedures and Views in T-SQL.  • Performed query optimization and performance tuning for complex SQL queries.  • Developed SQL queries, stored procedure, and triggers to handle the business rules and  data integrity and database integration.  • Implement UNIT Test of the .Net Framework for the automated testing of the application  • Worked on integration of .Net Applications with mainframe systems.   • Coordinated the build/migration of releases to test and production environments  Bishorup Banjara    banjara.bishorup@gmail.com      715-791-0828  • Implemented Object relational mapping using Entity Framework.  • Derived unit testing and contribute to the Software QA process  • Troubleshot the application in production environment .  • Implemented source control using TFS by creating.the projects in the TFS environment.  • Participated in System Documentation and Code Documentation.    Environment: .NET Framework 4.0,C#.NET,VB.NET,VB 6.0, ASP.NET , ADO.NET , AJAX, SQL  Server 2005/2008,T- SQL, Application Program Interface (API), Windows Communication  Foundation(WCF), Windows Presentation Foundation(WPF), ASP, TFS,IIS6.0,VS2010,  MSVisio,SSRS,Crystal Reports, Microsoft enterprise library, LINQ, VB Script,Java Script.      3. Azket E-entelligence  Irving - TX    JAN 2014 – DEC 2014    Project Name: Employee, Accounting & Finance Management System    Role: Programmer Analyst (Internship)  Azket E-entillegence is a group of individuals with professional experience and expertise in  providing IT Consulting, IT Staffing & Application Development Services. It focusses on best use  of information technology to meet business objectives. It also manages, implement, deploy, and  administer various Information Systems in various software and business environments. I worked  as an intern to develop internal employee management system, accounting management system  and finance management system in a team of senior developers and analysts for more than 40  consultants and employee all over the nation.     Responsibilities:   • Involved in the skills enhancement efforts of Business System Analysts, Designers and  Developers to adopt processes based on Agile/Scrum development techniques.  • Developed Web Forms and User Controls using ASP.NET and JavaScript for the accounting  and payroll management system that consultants and employees can submit timesheet  weekly and monthly basis.  • Develop desktop application and window service for the employee management system  and finance management system and notification using C# server side coding.  • Wrote a custom control that displayed a header that was common on several pages.  Developed user control for Menu Display, Header Display and created various pages  based on this control.  • Produced business logic for classes to Read, validate & write data via strongly-typed  datasets, show data and validation errors in Grid View, Forms View, Repeater, Details  View using C#.   • Extensively involved in developing server side code for Class Libraries for Business Layer,  Data Layer using C# for Address Book, Policy and Financial modules and ADO.NET to  Bishorup Banjara    banjara.bishorup@gmail.com      715-791-0828  define and implement secure middle-tier components using both connected and  disconnected environment strategies   • Worked closely with design team in creating CSS styles, Master Pages and Navigation  controls for consistent look and feel of the website. Used Adobe Flash for editing Images,  logos for Master Page.  • Worked with Globalization and Localization, Culture Info, Resource Manager to display  culture related information including the country specific language and the format  patterns like date, currency, numbers.  • Involved in designing the database; wrote and maintained complex T-SQL Queries,  Indexes, Triggers, User defined functions and the required Stored Procedures in MS SQL  2000.  • Provide on-going maintenance, minor enhancements, and user support for all developed  software applications including the creation of associated documentation.  • Developed logic to interact with various insurance company’s applications through WCF  web services using XML/C#.  • Created Test automation script for UI Testing, Load and performance testing for entire  system.    Environment: C#, ASP.NET 3.0, ADO.NET, WCF, JavaScript, XML, SOAP, HTML, XHTML, CSS,  XSLT, XPATH, IIS 7.0, Adobe Photoshop, MS SQL Server 2012, Crystal Reports XI; Visual Studio  2012; .NET Framework 2.0; Windows XP; Microsoft Visio 2008.    \n"
          ]
        }
      ],
      "source": [
        "fname = 'bbanjara.pdf'\n",
        "\n",
        "doc = fitz.open(fname)\n",
        "text = ''\n",
        "\n",
        "for page in doc:\n",
        "    text = text + str(page.getText())\n",
        "    \n",
        "    text = ' '.join(text.split('\\n'))\n",
        "    \n",
        "print(text)"
      ]
    },
    {
      "cell_type": "code",
      "execution_count": 23,
      "metadata": {
        "trusted": true
      },
      "outputs": [
        {
          "name": "stdout",
          "output_type": "stream",
          "text": [
            "NAME                           - Bishorup Banjara\n",
            "COMPANIES WORKED AT            - Microsoft\n",
            "DEGREE                         - Programming\n",
            "COLLEGE NAME                   - Languages\n",
            "SKILLS                         - C#, Python, NodeJs, VB.NET, Angular, React, Javascript,  HTML, CSS, jQuery  Cloud Computing\n",
            "COLLEGE NAME                   - Supervised Learning, Unsupervised Learning\n",
            "COLLEGE NAME                   - Vector Decomposition (SVD), XGBoost, Adaboost\n",
            "DEGREE                         - Bachelor of Science, Major: Physics, Minor\n",
            "LOCATION                       - Montvale\n"
          ]
        }
      ],
      "source": [
        "doc = nlp_resume_model(text)\n",
        "\n",
        "for ent in doc.ents:\n",
        "    print(f'{ent.label_.upper():{30}} - {ent.text}')"
      ]
    },
    {
      "cell_type": "code",
      "execution_count": null,
      "metadata": {
        "trusted": true
      },
      "outputs": [],
      "source": []
    }
  ],
  "metadata": {
    "gist": {
      "data": {
        "description": "Resume Parsing with Custom NER Training with SpaCy",
        "public": true
      },
      "id": ""
    },
    "kernelspec": {
      "display_name": "Python 3",
      "language": "python",
      "name": "python3"
    },
    "language_info": {
      "codemirror_mode": {
        "name": "ipython",
        "version": 3
      },
      "file_extension": ".py",
      "mimetype": "text/x-python",
      "name": "python",
      "nbconvert_exporter": "python",
      "pygments_lexer": "ipython3",
      "version": "3.7.6"
    },
    "toc": {
      "base_numbering": 1,
      "nav_menu": {},
      "number_sections": true,
      "sideBar": true,
      "skip_h1_title": false,
      "title_cell": "Table of Contents",
      "title_sidebar": "Contents",
      "toc_cell": false,
      "toc_position": {},
      "toc_section_display": true,
      "toc_window_display": false
    }
  },
  "nbformat": 4,
  "nbformat_minor": 4
}
